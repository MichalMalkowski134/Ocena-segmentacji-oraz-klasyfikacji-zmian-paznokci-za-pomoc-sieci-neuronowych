{
 "cells": [
  {
   "cell_type": "code",
   "execution_count": null,
   "id": "aa41b52a",
   "metadata": {},
   "outputs": [],
   "source": [
    "from shapely.geometry import Point\n",
    "from shapely.geometry.polygon import Polygon\n",
    "import cv2 \n",
    "import os\n",
    "\n",
    "directory = 'dataset/valid/'\n",
    "for filename in os.listdir(directory+'images'):\n",
    "    image = cv2.imread(directory+'images/'+filename) \n",
    "    gray_image = cv2.cvtColor(image, cv2.COLOR_BGR2GRAY) \n",
    "\n",
    "    w = gray_image.shape[0]\n",
    "    h = gray_image.shape[1]\n",
    "    \n",
    "    f_name = os.path.join(directory+'labels', filename[:-3]+'txt')\n",
    "    f = open(f_name,'r')\n",
    "    text = f.read().split()\n",
    "    ind = -1\n",
    "    coords = []\n",
    "    coord = []\n",
    "    for t in text:\n",
    "        if ind % 2 == 0:\n",
    "            s = w\n",
    "        else:\n",
    "            s = h\n",
    "        if ind >= 0:\n",
    "            coord.append(float(t)*s)\n",
    "            if len(coord) == 2:\n",
    "                coords.append(coord)\n",
    "                coord = []\n",
    "        ind+=1  \n",
    "    polygon = Polygon(coords)  \n",
    "    for i in range(w):\n",
    "        for j in range(h):\n",
    "            point = Point(i, j)\n",
    "            if polygon.contains(point):\n",
    "                gray_image[i][j] = 0\n",
    "            else:\n",
    "                gray_image[i][j] = 255\n",
    "\n",
    "    cv2.imwrite(directory+'masks/'+filename, gray_image) \n",
    "\n",
    "\n"
   ]
  },
  {
   "cell_type": "code",
   "execution_count": null,
   "id": "275c7af9",
   "metadata": {},
   "outputs": [],
   "source": []
  }
 ],
 "metadata": {
  "kernelspec": {
   "display_name": "Python 3 (ipykernel)",
   "language": "python",
   "name": "python3"
  },
  "language_info": {
   "codemirror_mode": {
    "name": "ipython",
    "version": 3
   },
   "file_extension": ".py",
   "mimetype": "text/x-python",
   "name": "python",
   "nbconvert_exporter": "python",
   "pygments_lexer": "ipython3",
   "version": "3.9.16"
  }
 },
 "nbformat": 4,
 "nbformat_minor": 5
}
